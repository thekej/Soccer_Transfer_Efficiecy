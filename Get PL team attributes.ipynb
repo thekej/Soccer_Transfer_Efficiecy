{
 "cells": [
  {
   "cell_type": "code",
   "execution_count": null,
   "metadata": {},
   "outputs": [],
   "source": [
    "import pandas as pd\n",
    "import numpy as np\n",
    "from IPython.display import display, clear_output"
   ]
  },
  {
   "cell_type": "code",
   "execution_count": null,
   "metadata": {},
   "outputs": [],
   "source": [
    "PL_lineups = {'Manchester City':['Ederson', 'Kyle Walker', 'John Stones', 'Aymeric Laporte', 'Oleksandr Zinchenko', \n",
    "                    'Fernandinho', 'Kevin De Bruyne', 'David Silva', 'Bernardo Silva', 'Sergio Agüero', 'Raheem Sterling'],\n",
    " 'Liverpool':['Alisson','Trent Alexander-Arnold','Joel Matip','Virgil van Dijk','Andrew Robertson','Fabinho',\n",
    "                'Jordan Henderson','Georginio Wijnaldum','Roberto Firmino','Mohamed Salah','Sadio Mané'], \n",
    " 'Arsenal':['Bernd Leno','Ainsley Maitland-Niles','Sokratis','Laurent Koscielny',\n",
    "            'Sead Kolašinac','Lucas Torreira','Granit Xhaka','Henrikh Mkhitaryan',\n",
    "            'Pierre-Emerick Aubameyang','Mesut Özil','Alexandre Lacazette'], \n",
    " 'Tottenham Hotspur':['Hugo Lloris','Kieran Trippier','Toby Alderweireld','Jan Vertonghen','Danny Rose',\n",
    "                    'Moussa Sissoko','Harry Winks','Christian Eriksen','Dele Alli','Heung Min Son','Harry Kane'], \n",
    " 'Manchester United':['De Gea','Ashley Young','Chris Smalling','Victor Lindelöf','Luke Shaw','Ander Herrera',\n",
    "                    'Nemanja Matić','Paul Pogba','Jesse Lingard','Romelu Lukaku','Marcus Rashford'], \n",
    " 'Chelsea':['Kepa','Azpilicueta','Andreas Christensen','David Luiz','Marcos Alonso',\n",
    "             'N\\'Golo Kanté','Jorginho','Ruben Loftus-Cheek','Pedro','Gonzalo Higuaín','Eden Hazard'], \n",
    " 'Bournemouth':['Artur Boruc','Nathaniel Clyne','Steve Cook','Nathan Aké','Adam Smith',\n",
    "                'David Brooks','Dan Gosling','Jefferson Lerma','Ryan Fraser',\n",
    "                'Joshua King','Callum Wilson'], \n",
    " 'Everton':['Jordan Pickford','Séamus Coleman','Michael Keane','Kurt Zouma','Lucas Digne','Idrissa Gueye','André Gomes',\n",
    "                'Richarlison','Bernard','Gylfi Sigurðsson','Dominic Calvert-Lewin'], \n",
    " 'West Ham United':['Łukasz Fabiański','Pablo Zabaleta','Fabián Balbuena','Angelo Ogbonna',\n",
    "            'Arthur Masuaku','Declan Rice','Michail Antonio','Mark Noble','Robert Snodgrass',\n",
    "                    'Felipe Anderson','Marko Arnautović'], \n",
    " 'Watford':['Ben Foster','Daryl Janmaat','Craig Cathcart','Christian Kabasele',\n",
    "            'Jose Holebas','Abdoulaye Doucouré','Etienne Capoue','Will Hughes',\n",
    "            'Roberto Pereyra','Deulofeu','Troy Deeney'], \n",
    " 'Leicester City':['Kasper Schmeichel','Ricardo Pereira','Jonny Evans','Harry Maguire','Ben Chilwell',\n",
    "                    'Wilfred Ndidi','Youri Tielemans','Hamza Choudhury','Marc Albrighton','Jamie Vardy','James Maddison'], \n",
    " 'Crystal Palace':['Guaita','Aaron Wan-Bissaka','Martin Kelly','Scott Dann','Patrick van Aanholt',\n",
    "                    'Andros Townsend','Luka Milivojević','James McArthur','Max Meyer','Christian Benteke','Wilfried Zaha'], \n",
    " 'Wolverhampton Wanderers':['Rui Patrício','Matt Doherty','Ryan Bennett','Conor Coady','Willy Boly','Jonny',\n",
    "                            'Leander Dendoncker','Rúben Neves','João Moutinho','Raúl Jiménez','Diogo Jota'], \n",
    " 'Southampton':['Angus Gunn','Yan Valery','Jan Bednarek','Maya Yoshida','Jannik Vestergaard',\n",
    "            'Ryan Bertrand','James Ward-Prowse','Pierre-Emile Højbjerg','Josh Sims','Shane Long','Nathan Redmond'], \n",
    " 'Burnley':['Tom Heaton','Matthew Lowton','James Tarkowski','Ben Mee','Charlie Taylor',\n",
    "            'Jeff Hendrick','Ashley Westwood','Jack Cork','Dwight McNeil','Chris Wood','Ashley Barnes'], \n",
    " 'Newcastle United':['Martin Dúbravka','Manquillo','Fabian Schär','Jamaal Lascelles','Paul Dummett','Matt Ritchie',\n",
    "                        'Isaac Hayden','Ki Sung Yueng','Ayoze Pérez','Salomón Rondón','Christian Atsu'], \n",
    " 'Brighton & Hove Albion':['Mathew Ryan','Montoya','Shane Duffy','Lewis Dunk','Bernardo','Dale Stephens','Pascal Groß',\n",
    "                            'Davy Pröpper','Anthony Knockaert','Glenn Murray','Alireza Jahanbakhsh'], \n",
    " 'Fulham':['Sergio Rico','Cyrus Christie','Maxime Le Marchand','Tim Ream','Joe Bryan','Calum Chambers',\n",
    "           'André-Franck Zambo Anguissa',\n",
    "            'Ryan Sessegnon','Ryan Babel','Tom Cairney','Aleksandar Mitrović'], \n",
    " 'Cardiff City':['Neil Etheridge','Lee Peltier','Sean Morrison','Bruno Ecuélé Manga','Joe Bennett',\n",
    "                 'Aron Gunnarsson','Harry Arter',\n",
    "                'Nathaniel Mendez-Laing','Junior Hoilett','Camarasa','Oumar Niasse'], \n",
    " 'Huddersfield Town':['Jonas Lössl','Florent Hadergjonaj','Christopher Schindler','Terence Kongolo',\n",
    "                    'Erik Durm','Jonathan Hogg','Juninho Bacuna','Aaron Mooy','Isaac Mbenza',\n",
    "                      'Alex Pritchard','Karlan Grant']}"
   ]
  },
  {
   "cell_type": "code",
   "execution_count": null,
   "metadata": {},
   "outputs": [],
   "source": [
    "player_rating = pd.read_csv('data/data.csv')\n",
    "player_rating = player_rating.drop(['Composure'], axis=1)\n",
    "player_rating"
   ]
  },
  {
   "cell_type": "code",
   "execution_count": null,
   "metadata": {
    "scrolled": true
   },
   "outputs": [],
   "source": [
    "teams = PL_lineups.keys()\n",
    "team_attributes = {}\n",
    "for t in teams:\n",
    "    club = player_rating[player_rating['Club'] == t].values\n",
    "    names = player_rating[player_rating['Club'] == t]['Name'].values\n",
    "    n = []\n",
    "    for i in names:\n",
    "        name = i.split(' ')\n",
    "        if len(name) > 1:\n",
    "            n.append(name[1])\n",
    "        else:\n",
    "            n.append(name[0])\n",
    "    game = np.zeros((3, 11, 37))\n",
    "    prompt = ''\n",
    "    for (i, s) in enumerate(n):\n",
    "        prompt += str(i)+'. '+s+' \\n'\n",
    "    print prompt\n",
    "    print PL_lineups[t]\n",
    "    entry = input('Choose players by index:')\n",
    "    indices = map(int, entry.split(','))\n",
    "    attributes = np.delete(club[indices], [0, 3], 1)\n",
    "    att = np.zeros((11, 37))\n",
    "    att[:, 0] = attributes[:, 0]\n",
    "    att[:, 1] = attributes[:, 1]\n",
    "    att[:, 2:] = attributes[:,:]\n",
    "    team_attributes[t] = att"
   ]
  },
  {
   "cell_type": "code",
   "execution_count": null,
   "metadata": {},
   "outputs": [],
   "source": [
    "import json\n",
    "for t in team_attributes.keys():\n",
    "    team_attributes[t] = [list(team_attributes[t][i]) for i in range(11)]\n",
    "\n",
    "with open('data/premier_league_attributes.csv', 'w') as f:\n",
    "    json.dump(team_attributes, f)"
   ]
  },
  {
   "cell_type": "code",
   "execution_count": null,
   "metadata": {},
   "outputs": [],
   "source": []
  }
 ],
 "metadata": {
  "kernelspec": {
   "display_name": "Python 3",
   "language": "python",
   "name": "python3"
  },
  "language_info": {
   "codemirror_mode": {
    "name": "ipython",
    "version": 3
   },
   "file_extension": ".py",
   "mimetype": "text/x-python",
   "name": "python",
   "nbconvert_exporter": "python",
   "pygments_lexer": "ipython3",
   "version": "3.6.7"
  }
 },
 "nbformat": 4,
 "nbformat_minor": 2
}
