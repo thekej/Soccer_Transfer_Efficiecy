{
 "cells": [
  {
   "cell_type": "code",
   "execution_count": null,
   "metadata": {},
   "outputs": [],
   "source": [
    "import pandas as pd\n",
    "import numpy as np\n",
    "import json"
   ]
  },
  {
   "cell_type": "code",
   "execution_count": null,
   "metadata": {},
   "outputs": [],
   "source": [
    "games = pd.read_csv('game_lineup.csv')\n",
    "player_attributes = pd.read_csv('euro_player_test.csv')"
   ]
  },
  {
   "cell_type": "code",
   "execution_count": null,
   "metadata": {},
   "outputs": [],
   "source": [
    "games['game_result'].value_counts()"
   ]
  },
  {
   "cell_type": "code",
   "execution_count": null,
   "metadata": {
    "scrolled": true
   },
   "outputs": [],
   "source": [
    "player_attributes = player_attributes.drop(['player_fifa_api_id', 'birthday', 'height', 'weight'], axis=1)"
   ]
  },
  {
   "cell_type": "code",
   "execution_count": null,
   "metadata": {},
   "outputs": [],
   "source": [
    "player_attributes = player_attributes[player_attributes['date'] != '188152']\n",
    "player_attributes = player_attributes[player_attributes['date'] != '198717']"
   ]
  },
  {
   "cell_type": "code",
   "execution_count": null,
   "metadata": {},
   "outputs": [],
   "source": [
    "season = []\n",
    "for (i, date) in enumerate(player_attributes['date']):\n",
    "    d = date.split('/')\n",
    "    if int(d[0]) <= 6:\n",
    "        year = d[2].split(' ')[0]\n",
    "        season.append(year+'/'+str(int(year)+1))\n",
    "    else:\n",
    "        season.append(str(int(year)-1)+'/'+year)"
   ]
  },
  {
   "cell_type": "code",
   "execution_count": null,
   "metadata": {},
   "outputs": [],
   "source": [
    "for (i,s) in enumerate(season):\n",
    "    player_attributes.at[i,'date'] = s"
   ]
  },
  {
   "cell_type": "code",
   "execution_count": null,
   "metadata": {
    "scrolled": true
   },
   "outputs": [],
   "source": [
    "player_attributes = player_attributes[:180352]"
   ]
  },
  {
   "cell_type": "code",
   "execution_count": null,
   "metadata": {},
   "outputs": [],
   "source": [
    "player_attributes = player_attributes.loc[player_attributes.reset_index().groupby(['date', 'player_name'])['overall_rating'].idxmax()]\n",
    "player_attributes = player_attributes.sort_values(by=['player_name'])"
   ]
  },
  {
   "cell_type": "code",
   "execution_count": null,
   "metadata": {},
   "outputs": [],
   "source": [
    "player_to_attributes = {}\n",
    "participating_players = games.drop(['season', 'game_result', 'away_team_goal', \n",
    "                                    'home_team_goal', 'away_team_name', \n",
    "                                    'home_team_name'], axis=1)\n",
    "participating_players = participating_players[['away_player_1_name','away_player_2_name', u'away_player_3_name', u'away_player_4_name',\n",
    "       u'away_player_5_name', u'away_player_6_name', u'away_player_7_name',\n",
    "       u'away_player_8_name', u'away_player_9_name', u'away_player_10_name',\n",
    "       u'away_player_11_name', u'home_player_1_name', u'home_player_2_name', u'home_player_3_name',\n",
    "       u'home_player_4_name', u'home_player_5_name', u'home_player_6_name',\n",
    "       u'home_player_7_name', u'home_player_8_name', u'home_player_9_name',\n",
    "       u'home_player_10_name', u'home_player_11_name']].stack().value_counts().index.tolist()"
   ]
  },
  {
   "cell_type": "code",
   "execution_count": null,
   "metadata": {},
   "outputs": [],
   "source": [
    "work_rate = {'high': 90.0, 'medium': 75.0, 'low':60.0, 'None': 0.0, 'o':0.0, 'norm':75.0, 'ormal':75.0, '2':2.0,'1':10.0,\n",
    "             'le':50.0, 'stoc':80.0, 'y':50.0, '0':0.0, '3':30.0, '4':40.0, '5':50.0, '6':60.0, '7':70.0, '8':80.0, '9':90.0,\n",
    "             'ean':75.0, 'es':0.0,'tocky':80.0}\n",
    "for player in participating_players:\n",
    "    player_to_attributes[player] = {}\n",
    "    all_seasons_attributes = player_attributes[player_attributes['player_name'] == player].values\n",
    "    for (i, season) in enumerate(all_seasons_attributes[:, 0]):\n",
    "        attributes = player_attributes[player_attributes['player_name'] == player].values[i]\n",
    "        attributes = np.delete(attributes, [0,3, attributes.shape[0]-1])\n",
    "        attributes[2] = work_rate[attributes[2]]\n",
    "        attributes[3] = work_rate[attributes[3]]\n",
    "        player_to_attributes[player][season] = list(attributes)\n",
    "with open('player_to_attributes.json', 'w') as f:\n",
    "    json.dump(player_to_attributes, f)"
   ]
  },
  {
   "cell_type": "code",
   "execution_count": null,
   "metadata": {},
   "outputs": [],
   "source": [
    "with open('player_to_attributes.json', 'r') as f:\n",
    "    player_to_attributes = json.load(f)"
   ]
  },
  {
   "cell_type": "code",
   "execution_count": null,
   "metadata": {},
   "outputs": [],
   "source": [
    "labels = games['game_result'].values\n",
    "seasons = games['season'].values\n",
    "home_team = games['home_team_name'].values\n",
    "away_team = games['away_team_name'].values\n",
    "teams = list(set(home_team) | set(away_team))\n",
    "\n",
    "team_mapping = {}\n",
    "for i in range(len(teams)):\n",
    "    team_mapping[teams[i]] = i\n",
    "with open('team_ids.json', 'w') as f:\n",
    "    json.dump(team_mapping, f)\n",
    "\n",
    "lineups = games.drop(['season', 'game_result', 'away_team_goal', 'country',\n",
    "            'home_team_goal', 'away_team_name', 'home_team_name'], axis=1).values"
   ]
  },
  {
   "cell_type": "code",
   "execution_count": null,
   "metadata": {},
   "outputs": [],
   "source": [
    "list(games['game_result'].values)"
   ]
  },
  {
   "cell_type": "code",
   "execution_count": null,
   "metadata": {},
   "outputs": [],
   "source": [
    "import h5py\n",
    "\n",
    "total_games = len(list(games['game_result'].values))\n",
    "\n",
    "h5file = h5py.File('dataset.hdf5', \"w\")\n",
    "d_games = h5file.create_dataset(\n",
    "       \"games\", (total_games, 22, 37), dtype='i')\n",
    "d_home = h5file.create_dataset(\n",
    "       \"home\", (total_games,), dtype='i')\n",
    "d_away = h5file.create_dataset(\n",
    "       \"away\", (total_games,), dtype='i')\n",
    "d_labels = h5file.create_dataset(\n",
    "       \"results\", (total_games,), dtype='i')"
   ]
  },
  {
   "cell_type": "code",
   "execution_count": null,
   "metadata": {},
   "outputs": [],
   "source": [
    "avg_player = np.zeros(37)\n",
    "count = 0\n",
    "for i in range(total_games):\n",
    "    for player in lineups[i]:\n",
    "        for s in player_to_attributes[player].keys():\n",
    "            count += 1\n",
    "            avg_player += player_to_attributes[player][s]\n",
    "        \n",
    "avg_player = np.around(avg_player / count)\n",
    "avg_player"
   ]
  },
  {
   "cell_type": "code",
   "execution_count": null,
   "metadata": {},
   "outputs": [],
   "source": [
    "for i in range(total_games):\n",
    "    game = np.zeros((22, 37))\n",
    "    for (j, player) in enumerate(lineups[i]):\n",
    "        if seasons[i] in player_to_attributes[player]:\n",
    "            game[j] = player_to_attributes[player][seasons[i]]\n",
    "        elif len(player_to_attributes[player].keys()) > 0:\n",
    "            for s in player_to_attributes[player].keys():\n",
    "                game[j] += player_to_attributes[player][s]\n",
    "            game[j] /= len(player_to_attributes[player].keys())\n",
    "        else:\n",
    "            game[j] = avg_player\n",
    "    d_games[i, :, :] = game\n",
    "    d_labels[i] = labels[i]\n",
    "    d_home[i] = team_mapping[home_team[i]]\n",
    "    d_away[i] = team_mapping[away_team[i]]\n",
    "    if i % 1000 == 0:\n",
    "        print i\n",
    "h5file.close()"
   ]
  },
  {
   "cell_type": "code",
   "execution_count": null,
   "metadata": {},
   "outputs": [],
   "source": [
    "h5file.close()"
   ]
  },
  {
   "cell_type": "code",
   "execution_count": null,
   "metadata": {},
   "outputs": [],
   "source": []
  }
 ],
 "metadata": {
  "kernelspec": {
   "display_name": "Python 3",
   "language": "python",
   "name": "python3"
  },
  "language_info": {
   "codemirror_mode": {
    "name": "ipython",
    "version": 3
   },
   "file_extension": ".py",
   "mimetype": "text/x-python",
   "name": "python",
   "nbconvert_exporter": "python",
   "pygments_lexer": "ipython3",
   "version": "3.6.7"
  }
 },
 "nbformat": 4,
 "nbformat_minor": 2
}
